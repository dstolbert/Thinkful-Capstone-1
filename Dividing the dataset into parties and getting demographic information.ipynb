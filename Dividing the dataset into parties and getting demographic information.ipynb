{
 "cells": [
  {
   "cell_type": "code",
   "execution_count": 1,
   "metadata": {},
   "outputs": [],
   "source": [
    "import numpy as np\n",
    "import pandas as pd\n",
    "import matplotlib.pyplot as plt\n",
    "import savReaderWriter"
   ]
  },
  {
   "cell_type": "code",
   "execution_count": 2,
   "metadata": {},
   "outputs": [],
   "source": [
    "#load survey data\n",
    "\n",
    "with savReaderWriter.SavReader('Dataset - 2017 Pew Research Center Science and News Survey (2017).sav') as reader:\n",
    "    data = reader.all()"
   ]
  },
  {
   "cell_type": "code",
   "execution_count": 3,
   "metadata": {},
   "outputs": [],
   "source": [
    "#load metadata, extract variable names, convert from bytes to utf-8\n",
    "\n",
    "with savReaderWriter.SavHeaderReader('Dataset - 2017 Pew Research Center Science and News Survey (2017).sav') as header:\n",
    "    metadata = header.all()\n",
    "    variables = metadata.varNames\n",
    "\n",
    "for i in range(len(variables)):\n",
    "    variables[i] = variables[i].decode('utf-8')"
   ]
  },
  {
   "cell_type": "code",
   "execution_count": 4,
   "metadata": {},
   "outputs": [],
   "source": [
    "#add variables to data and convert to dataframe, remove those who don't identify as Rep, Dem, or Independent (296)\n",
    "\n",
    "pew_df = pd.DataFrame(data)\n",
    "pew_df.columns = variables\n",
    "\n",
    "party_df = pew_df.loc[(pew_df['PARTY'] != -1) & (pew_df['PARTY'] != 4)]"
   ]
  },
  {
   "cell_type": "markdown",
   "metadata": {},
   "source": [
    "Find n, ages, education, race/ethnicity, gender, income, marital status, employment, by party for demographic table"
   ]
  },
  {
   "cell_type": "code",
   "execution_count": 7,
   "metadata": {},
   "outputs": [
    {
     "data": {
      "text/plain": [
       "PARTY\n",
       "1.0    1158\n",
       "2.0    1372\n",
       "3.0    1198\n",
       "dtype: int64"
      ]
     },
     "execution_count": 7,
     "metadata": {},
     "output_type": "execute_result"
    }
   ],
   "source": [
    "# n per party\n",
    "party_df.groupby('PARTY').size()"
   ]
  },
  {
   "cell_type": "markdown",
   "metadata": {},
   "source": [
    "Get counts for age groups in each party"
   ]
  },
  {
   "cell_type": "code",
   "execution_count": 82,
   "metadata": {
    "scrolled": true
   },
   "outputs": [
    {
     "data": {
      "text/plain": [
       "PARTY  ppagect4\n",
       "1.0    1.0         125\n",
       "       2.0         244\n",
       "       3.0         383\n",
       "       4.0         406\n",
       "2.0    1.0         223\n",
       "       2.0         297\n",
       "       3.0         402\n",
       "       4.0         450\n",
       "3.0    1.0         201\n",
       "       2.0         271\n",
       "       3.0         361\n",
       "       4.0         365\n",
       "dtype: int64"
      ]
     },
     "execution_count": 82,
     "metadata": {},
     "output_type": "execute_result"
    }
   ],
   "source": [
    "#Party 1= Rep, 2=Dem, 3=Ind\n",
    "# Age 1 = 18-29, 2 = 30-44, 3 = 45-59, 4 = 60+\n",
    "party_df.groupby(['PARTY','ppagect4']).size()"
   ]
  },
  {
   "cell_type": "markdown",
   "metadata": {},
   "source": [
    "Get counts for education groups in each party"
   ]
  },
  {
   "cell_type": "code",
   "execution_count": 8,
   "metadata": {},
   "outputs": [
    {
     "data": {
      "text/plain": [
       "PARTY  PPEDUCAT\n",
       "1.0    1.0          51\n",
       "       2.0         357\n",
       "       3.0         336\n",
       "       4.0         414\n",
       "2.0    1.0         120\n",
       "       2.0         357\n",
       "       3.0         365\n",
       "       4.0         530\n",
       "3.0    1.0          97\n",
       "       2.0         316\n",
       "       3.0         357\n",
       "       4.0         428\n",
       "dtype: int64"
      ]
     },
     "execution_count": 8,
     "metadata": {},
     "output_type": "execute_result"
    }
   ],
   "source": [
    "# 1 = less than HS, 2 = HS, 3 = some college, 4 = Bachelors or higher\n",
    "party_df.groupby(['PARTY','PPEDUCAT']).size()"
   ]
  },
  {
   "cell_type": "markdown",
   "metadata": {},
   "source": [
    "Get counts for race/enthnicity groups in each party"
   ]
  },
  {
   "cell_type": "code",
   "execution_count": 9,
   "metadata": {
    "scrolled": true
   },
   "outputs": [
    {
     "data": {
      "text/plain": [
       "PARTY  PPETHM\n",
       "1.0    1.0       1021\n",
       "       2.0          9\n",
       "       3.0         28\n",
       "       4.0         63\n",
       "       5.0         37\n",
       "2.0    1.0        737\n",
       "       2.0        279\n",
       "       3.0         73\n",
       "       4.0        233\n",
       "       5.0         50\n",
       "3.0    1.0        892\n",
       "       2.0         87\n",
       "       3.0         57\n",
       "       4.0        110\n",
       "       5.0         52\n",
       "dtype: int64"
      ]
     },
     "execution_count": 9,
     "metadata": {},
     "output_type": "execute_result"
    }
   ],
   "source": [
    "# 1 = white, non-Hispanic; 2 = Black, non-Hispanic; 3 = Other, non-Hispanic; 4 = Hispanic; 5 = 2+races, non-Hispanic\n",
    "party_df.groupby(['PARTY','PPETHM']).size()"
   ]
  },
  {
   "cell_type": "markdown",
   "metadata": {},
   "source": [
    "Get counts for gender in each party"
   ]
  },
  {
   "cell_type": "code",
   "execution_count": 10,
   "metadata": {},
   "outputs": [
    {
     "data": {
      "text/plain": [
       "PARTY  PPGENDER\n",
       "1.0    1.0         586\n",
       "       2.0         572\n",
       "2.0    1.0         620\n",
       "       2.0         752\n",
       "3.0    1.0         656\n",
       "       2.0         542\n",
       "dtype: int64"
      ]
     },
     "execution_count": 10,
     "metadata": {},
     "output_type": "execute_result"
    }
   ],
   "source": [
    "# 1 = Male, 2 = Female\n",
    "party_df.groupby(['PARTY','PPGENDER']).size()"
   ]
  },
  {
   "cell_type": "markdown",
   "metadata": {},
   "source": [
    "Get counts for income groups per party, original data was given in 21 different income brackets. I converted it into 4 income brackets for easier reporting and interpretation."
   ]
  },
  {
   "cell_type": "code",
   "execution_count": 8,
   "metadata": {
    "scrolled": true
   },
   "outputs": [
    {
     "data": {
      "text/html": [
       "<div>\n",
       "<style scoped>\n",
       "    .dataframe tbody tr th:only-of-type {\n",
       "        vertical-align: middle;\n",
       "    }\n",
       "\n",
       "    .dataframe tbody tr th {\n",
       "        vertical-align: top;\n",
       "    }\n",
       "\n",
       "    .dataframe thead th {\n",
       "        text-align: right;\n",
       "    }\n",
       "</style>\n",
       "<table border=\"1\" class=\"dataframe\">\n",
       "  <thead>\n",
       "    <tr style=\"text-align: right;\">\n",
       "      <th></th>\n",
       "      <th>&lt;$30,000</th>\n",
       "      <th>$30,000-$49,999</th>\n",
       "      <th>$50,000-$99,999</th>\n",
       "      <th>$100,000+</th>\n",
       "    </tr>\n",
       "  </thead>\n",
       "  <tbody>\n",
       "    <tr>\n",
       "      <th>Republican</th>\n",
       "      <td>170</td>\n",
       "      <td>350</td>\n",
       "      <td>355</td>\n",
       "      <td>283</td>\n",
       "    </tr>\n",
       "    <tr>\n",
       "      <th>Democrat</th>\n",
       "      <td>340</td>\n",
       "      <td>377</td>\n",
       "      <td>362</td>\n",
       "      <td>293</td>\n",
       "    </tr>\n",
       "    <tr>\n",
       "      <th>Independent</th>\n",
       "      <td>303</td>\n",
       "      <td>314</td>\n",
       "      <td>301</td>\n",
       "      <td>280</td>\n",
       "    </tr>\n",
       "  </tbody>\n",
       "</table>\n",
       "</div>"
      ],
      "text/plain": [
       "             <$30,000  $30,000-$49,999  $50,000-$99,999  $100,000+\n",
       "Republican        170              350              355        283\n",
       "Democrat          340              377              362        293\n",
       "Independent       303              314              301        280"
      ]
     },
     "execution_count": 8,
     "metadata": {},
     "output_type": "execute_result"
    }
   ],
   "source": [
    "# See codebook for categories\n",
    "income = list(party_df.groupby(['PARTY','PPINCIMP']).size())\n",
    "party_income21 = []\n",
    "party_income4 = []\n",
    "income_brackets = ['<$30,000', '$30,000-$49,999', '$50,000-$99,999', '$100,000+']\n",
    "\n",
    "#recategorize into list of 3 parties\n",
    "for i in range(3):\n",
    "         party_income21.append(income[i*21:i*21+21])\n",
    "\n",
    "#recategorize into list of 3 parties with 4 income brackets\n",
    "for i in range(len(party_income21)):\n",
    "    for ii in range(4):\n",
    "        if ii == 0:\n",
    "            party_income4.append(sum(party_income21[i][0:9]))\n",
    "        elif ii == 1:\n",
    "            party_income4.append(sum(party_income21[i][9:13]))\n",
    "        elif ii == 2:\n",
    "            party_income4.append(sum(party_income21[i][13:16]))\n",
    "        elif ii == 3:\n",
    "            party_income4.append(sum(party_income21[i][16:]))\n",
    "\n",
    "party_income_reshaped = []\n",
    "#reshape into 2d list by party\n",
    "for i in range(3):\n",
    "    party_income_reshaped.append(party_income4[i*4:i*4+4])\n",
    "\n",
    "income_df = pd.DataFrame(party_income_reshaped)\n",
    "income_df.columns = income_brackets\n",
    "income_df.index = ['Republican', 'Democrat', 'Independent']\n",
    "income_df"
   ]
  },
  {
   "cell_type": "code",
   "execution_count": null,
   "metadata": {},
   "outputs": [],
   "source": []
  }
 ],
 "metadata": {
  "kernelspec": {
   "display_name": "Python 3",
   "language": "python",
   "name": "python3"
  },
  "language_info": {
   "codemirror_mode": {
    "name": "ipython",
    "version": 3
   },
   "file_extension": ".py",
   "mimetype": "text/x-python",
   "name": "python",
   "nbconvert_exporter": "python",
   "pygments_lexer": "ipython3",
   "version": "3.7.3"
  }
 },
 "nbformat": 4,
 "nbformat_minor": 2
}
