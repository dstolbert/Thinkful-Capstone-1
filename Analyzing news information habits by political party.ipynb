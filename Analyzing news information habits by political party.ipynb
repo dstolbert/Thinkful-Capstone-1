{
 "cells": [
  {
   "cell_type": "code",
   "execution_count": 76,
   "metadata": {},
   "outputs": [],
   "source": [
    "import numpy as np\n",
    "import pandas as pd\n",
    "import matplotlib.pyplot as plt\n",
    "import savReaderWriter"
   ]
  },
  {
   "cell_type": "code",
   "execution_count": 77,
   "metadata": {},
   "outputs": [],
   "source": [
    "#load survey data\n",
    "\n",
    "with savReaderWriter.SavReader('Dataset - 2017 Pew Research Center Science and News Survey (2017).sav') as reader:\n",
    "    data = reader.all()"
   ]
  },
  {
   "cell_type": "code",
   "execution_count": 78,
   "metadata": {},
   "outputs": [],
   "source": [
    "#load metadata, extract variable names, convert from bytes to utf-8\n",
    "\n",
    "with savReaderWriter.SavHeaderReader('Dataset - 2017 Pew Research Center Science and News Survey (2017).sav') as header:\n",
    "    metadata = header.all()\n",
    "    variables = metadata.varNames\n",
    "\n",
    "for i in range(len(variables)):\n",
    "    variables[i] = variables[i].decode('utf-8')"
   ]
  },
  {
   "cell_type": "code",
   "execution_count": 79,
   "metadata": {},
   "outputs": [],
   "source": [
    "#add variables to data and convert to dataframe, remove those who don't identify as Rep, Dem, or Independent (296)\n",
    "\n",
    "pew_df = pd.DataFrame(data)\n",
    "pew_df.columns = variables\n",
    "parties = ['Republican', 'Democrat', 'Independent']\n",
    "\n",
    "party_df = pew_df.loc[(pew_df['PARTY'] != -1) & (pew_df['PARTY'] != 4)].copy(deep=True)\n",
    "party_df.index = range(len(party_df))"
   ]
  },
  {
   "cell_type": "code",
   "execution_count": 80,
   "metadata": {
    "scrolled": false
   },
   "outputs": [
    {
     "data": {
      "image/png": "[encoded data removed]",
      "text/plain": [
       "<Figure size 720x360 with 1 Axes>"
      ]
     },
     "metadata": {
      "needs_background": "light"
     },
     "output_type": "display_data"
    },
    {
     "data": {
      "text/html": [
       "<div>\n",
       "<style scoped>\n",
       "    .dataframe tbody tr th:only-of-type {\n",
       "        vertical-align: middle;\n",
       "    }\n",
       "\n",
       "    .dataframe tbody tr th {\n",
       "        vertical-align: top;\n",
       "    }\n",
       "\n",
       "    .dataframe thead th {\n",
       "        text-align: right;\n",
       "    }\n",
       "</style>\n",
       "<table border=\"1\" class=\"dataframe\">\n",
       "  <thead>\n",
       "    <tr style=\"text-align: right;\">\n",
       "      <th></th>\n",
       "      <th>ABC</th>\n",
       "      <th>CBS</th>\n",
       "      <th>NBC</th>\n",
       "      <th>Business Insider</th>\n",
       "      <th>Vox</th>\n",
       "      <th>Independent Journal Review</th>\n",
       "      <th>None above</th>\n",
       "    </tr>\n",
       "  </thead>\n",
       "  <tbody>\n",
       "    <tr>\n",
       "      <th>Republican</th>\n",
       "      <td>33.246978</td>\n",
       "      <td>31.174439</td>\n",
       "      <td>31.519862</td>\n",
       "      <td>2.936097</td>\n",
       "      <td>0.518135</td>\n",
       "      <td>2.245250</td>\n",
       "      <td>47.668394</td>\n",
       "    </tr>\n",
       "    <tr>\n",
       "      <th>Democrat</th>\n",
       "      <td>43.658892</td>\n",
       "      <td>44.387755</td>\n",
       "      <td>46.938776</td>\n",
       "      <td>4.227405</td>\n",
       "      <td>4.373178</td>\n",
       "      <td>1.895044</td>\n",
       "      <td>30.029155</td>\n",
       "    </tr>\n",
       "    <tr>\n",
       "      <th>Independent</th>\n",
       "      <td>34.891486</td>\n",
       "      <td>35.976628</td>\n",
       "      <td>36.143573</td>\n",
       "      <td>4.173623</td>\n",
       "      <td>3.088481</td>\n",
       "      <td>2.587646</td>\n",
       "      <td>43.906511</td>\n",
       "    </tr>\n",
       "  </tbody>\n",
       "</table>\n",
       "</div>"
      ],
      "text/plain": [
       "                   ABC        CBS        NBC  Business Insider       Vox  \\\n",
       "Republican   33.246978  31.174439  31.519862          2.936097  0.518135   \n",
       "Democrat     43.658892  44.387755  46.938776          4.227405  4.373178   \n",
       "Independent  34.891486  35.976628  36.143573          4.173623  3.088481   \n",
       "\n",
       "             Independent Journal Review  None above  \n",
       "Republican                     2.245250   47.668394  \n",
       "Democrat                       1.895044   30.029155  \n",
       "Independent                    2.587646   43.906511  "
      ]
     },
     "execution_count": 80,
     "metadata": {},
     "output_type": "execute_result"
    }
   ],
   "source": [
    "#Create figure for political source question 1 data\n",
    "\n",
    "#ABC, CBS, NBC, Business Insider, Vox, Independent Journal Review, None of the above\n",
    "political_source1 = party_df.groupby('PARTY')['POLSOURCE1_1', 'POLSOURCE1_2', 'POLSOURCE1_3', 'POLSOURCE1_4', 'POLSOURCE1_5', 'POLSOURCE1_6', 'POLSOURCE1_99'].sum()\n",
    "political_source1.columns = ['ABC', 'CBS', 'NBC', 'Business Insider', 'Vox', 'Independent Journal Review', 'None above']\n",
    "political_source1.index = parties\n",
    "party_n = [1158, 1372, 1198]\n",
    "\n",
    "#convert to %\n",
    "for i in range(3):\n",
    "    for ii in range(len(political_source1.iloc[i])):\n",
    "        political_source1.iloc[i][ii] = political_source1.iloc[i][ii]/party_n[i]*100\n",
    "        \n",
    "\n",
    "ind = np.arange(len(political_source1.columns))\n",
    "width = 0.3\n",
    "fig, ax = plt.subplots(figsize=(10,5))\n",
    "\n",
    "rep_bars = ax.bar(ind - width, political_source1.loc['Republican'], width, label='Republicans', color='r', alpha=0.5)\n",
    "dem_bars = ax.bar(ind, political_source1.loc['Democrat'], width, label='Democrats', color='b', alpha=0.5)\n",
    "ind_bars = ax.bar(ind + width, political_source1.loc['Independent'], width, label='Independents', color='y', alpha=0.5)\n",
    "\n",
    "ax.set_ylabel('Percentage of Party')\n",
    "ax.set_ylim(0,80)\n",
    "ax.set_title('Government and Political News Sources by Party')\n",
    "ax.set_xticklabels(['','ABC','CBS', 'NBC', 'Business Insider', 'Vox', 'IJR', 'None above'], rotation=45)\n",
    "ax.legend()\n",
    "\n",
    "fig.tight_layout()\n",
    "plt.show()\n",
    "\n",
    "political_source1"
   ]
  },
  {
   "cell_type": "code",
   "execution_count": 75,
   "metadata": {},
   "outputs": [
    {
     "data": {
      "image/png": "[encoded data removed]",
      "text/plain": [
       "<Figure size 720x360 with 1 Axes>"
      ]
     },
     "metadata": {
      "needs_background": "light"
     },
     "output_type": "display_data"
    },
    {
     "data": {
      "text/html": [
       "<div>\n",
       "<style scoped>\n",
       "    .dataframe tbody tr th:only-of-type {\n",
       "        vertical-align: middle;\n",
       "    }\n",
       "\n",
       "    .dataframe tbody tr th {\n",
       "        vertical-align: top;\n",
       "    }\n",
       "\n",
       "    .dataframe thead th {\n",
       "        text-align: right;\n",
       "    }\n",
       "</style>\n",
       "<table border=\"1\" class=\"dataframe\">\n",
       "  <thead>\n",
       "    <tr style=\"text-align: right;\">\n",
       "      <th></th>\n",
       "      <th>PBS</th>\n",
       "      <th>Politico</th>\n",
       "      <th>Internation Business Times</th>\n",
       "      <th>Slate</th>\n",
       "      <th>LA Times</th>\n",
       "      <th>None above</th>\n",
       "    </tr>\n",
       "  </thead>\n",
       "  <tbody>\n",
       "    <tr>\n",
       "      <th>Republican</th>\n",
       "      <td>14.075993</td>\n",
       "      <td>2.590674</td>\n",
       "      <td>1.468048</td>\n",
       "      <td>1.036269</td>\n",
       "      <td>2.158895</td>\n",
       "      <td>80.829016</td>\n",
       "    </tr>\n",
       "    <tr>\n",
       "      <th>Democrat</th>\n",
       "      <td>30.102041</td>\n",
       "      <td>12.827988</td>\n",
       "      <td>2.332362</td>\n",
       "      <td>6.924198</td>\n",
       "      <td>8.163265</td>\n",
       "      <td>58.965015</td>\n",
       "    </tr>\n",
       "    <tr>\n",
       "      <th>Independent</th>\n",
       "      <td>23.706177</td>\n",
       "      <td>7.095159</td>\n",
       "      <td>2.838063</td>\n",
       "      <td>3.422371</td>\n",
       "      <td>4.590985</td>\n",
       "      <td>70.200334</td>\n",
       "    </tr>\n",
       "  </tbody>\n",
       "</table>\n",
       "</div>"
      ],
      "text/plain": [
       "                   PBS   Politico  Internation Business Times     Slate  \\\n",
       "Republican   14.075993   2.590674                    1.468048  1.036269   \n",
       "Democrat     30.102041  12.827988                    2.332362  6.924198   \n",
       "Independent  23.706177   7.095159                    2.838063  3.422371   \n",
       "\n",
       "             LA Times  None above  \n",
       "Republican   2.158895   80.829016  \n",
       "Democrat     8.163265   58.965015  \n",
       "Independent  4.590985   70.200334  "
      ]
     },
     "execution_count": 75,
     "metadata": {},
     "output_type": "execute_result"
    }
   ],
   "source": [
    "#Create figure for political source question 2 data\n",
    "\n",
    "#PBS, Politico, International Business Times, Slate, Los Angeles Times, None of the above\n",
    "political_source2 = party_df.groupby('PARTY')['POLSOURCE2_1', 'POLSOURCE2_2', 'POLSOURCE2_3', 'POLSOURCE2_4', 'POLSOURCE2_5', 'POLSOURCE2_99',].sum()\n",
    "political_source2.columns = ['PBS','Politico', 'Internation Business Times', 'Slate', 'LA Times', 'None above']\n",
    "political_source2.index = parties\n",
    "\n",
    "#convert to %\n",
    "for i in range(3):\n",
    "    for ii in range(len(political_source2.iloc[i])):\n",
    "        political_source2.iloc[i][ii] = political_source2.iloc[i][ii]/party_n[i]*100\n",
    "        \n",
    "\n",
    "ind = np.arange(len(political_source2.columns))\n",
    "width = 0.3\n",
    "fig, ax = plt.subplots(figsize=(10,5))\n",
    "\n",
    "rep_bars = ax.bar(ind - width, political_source2.loc['Republican'], width, label='Republicans', color='r', alpha=0.5)\n",
    "dem_bars = ax.bar(ind, political_source2.loc['Democrat'], width, label='Democrats', color='b', alpha=0.5)\n",
    "ind_bars = ax.bar(ind + width, political_source2.loc['Independent'], width, label='Independents', color='y', alpha=0.5)\n",
    "\n",
    "ax.set_ylabel('Percentage of Party')\n",
    "ax.set_ylim(0,85)\n",
    "ax.set_title('Government and Political News Sources by Party')\n",
    "ax.set_xticklabels(['','PBS','Politico', 'International Business Times', 'Slate', 'LA Times', 'None above'], rotation=45)\n",
    "ax.legend()\n",
    "\n",
    "fig.tight_layout()\n",
    "plt.show()\n",
    "\n",
    "political_source2"
   ]
  },
  {
   "cell_type": "markdown",
   "metadata": {},
   "source": [
    "Create bar graph to show the differences in interest of news topics between parties. Note that the original data was coded so that a lower score meant greater interest in the topic (i.e. a 1 = Very interested). Counts for the first variable are printed below to show the scores being reversed for easier interpretation."
   ]
  },
  {
   "cell_type": "code",
   "execution_count": 81,
   "metadata": {
    "scrolled": false
   },
   "outputs": [
    {
     "name": "stdout",
     "output_type": "stream",
     "text": [
      "TOPICINT_a\n",
      "-1.0      13\n",
      " 1.0    1264\n",
      " 2.0    1502\n",
      " 3.0     623\n",
      " 4.0     326\n",
      "dtype: int64\n",
      "TOPICINT_a\n",
      "1.0     326\n",
      "2.0     623\n",
      "3.0    1502\n",
      "4.0    1264\n",
      "dtype: int64\n"
     ]
    },
    {
     "data": {
      "text/html": [
       "<div>\n",
       "<style scoped>\n",
       "    .dataframe tbody tr th:only-of-type {\n",
       "        vertical-align: middle;\n",
       "    }\n",
       "\n",
       "    .dataframe tbody tr th {\n",
       "        vertical-align: top;\n",
       "    }\n",
       "\n",
       "    .dataframe thead th {\n",
       "        text-align: right;\n",
       "    }\n",
       "</style>\n",
       "<table border=\"1\" class=\"dataframe\">\n",
       "  <thead>\n",
       "    <tr style=\"text-align: right;\">\n",
       "      <th></th>\n",
       "      <th>Government/Politics</th>\n",
       "      <th>Local News</th>\n",
       "      <th>Sports</th>\n",
       "      <th>Business and Finance</th>\n",
       "      <th>Science</th>\n",
       "      <th>Entertainment</th>\n",
       "    </tr>\n",
       "  </thead>\n",
       "  <tbody>\n",
       "    <tr>\n",
       "      <th>Republican</th>\n",
       "      <td>3.006066</td>\n",
       "      <td>3.273438</td>\n",
       "      <td>2.441355</td>\n",
       "      <td>2.759516</td>\n",
       "      <td>2.816291</td>\n",
       "      <td>2.228101</td>\n",
       "    </tr>\n",
       "    <tr>\n",
       "      <th>Democrat</th>\n",
       "      <td>3.123719</td>\n",
       "      <td>3.351608</td>\n",
       "      <td>2.431918</td>\n",
       "      <td>2.693937</td>\n",
       "      <td>3.001464</td>\n",
       "      <td>2.619430</td>\n",
       "    </tr>\n",
       "    <tr>\n",
       "      <th>Independent</th>\n",
       "      <td>2.843515</td>\n",
       "      <td>3.223618</td>\n",
       "      <td>2.343384</td>\n",
       "      <td>2.703177</td>\n",
       "      <td>2.953820</td>\n",
       "      <td>2.276987</td>\n",
       "    </tr>\n",
       "  </tbody>\n",
       "</table>\n",
       "</div>"
      ],
      "text/plain": [
       "             Government/Politics  Local News    Sports  Business and Finance  \\\n",
       "Republican              3.006066    3.273438  2.441355              2.759516   \n",
       "Democrat                3.123719    3.351608  2.431918              2.693937   \n",
       "Independent             2.843515    3.223618  2.343384              2.703177   \n",
       "\n",
       "              Science  Entertainment  \n",
       "Republican   2.816291       2.228101  \n",
       "Democrat     3.001464       2.619430  \n",
       "Independent  2.953820       2.276987  "
      ]
     },
     "execution_count": 81,
     "metadata": {},
     "output_type": "execute_result"
    }
   ],
   "source": [
    "#a = Gvmt/politics, b = News/local, c = Sports, d = Business/Finance, e = Science, f = Entertainment\n",
    "variable_list = ['TOPICINT_a', 'TOPICINT_b', 'TOPICINT_c', 'TOPICINT_d', 'TOPICINT_e', 'TOPICINT_f']\n",
    "print(party_df.groupby(['TOPICINT_a']).size())\n",
    "\n",
    "#Reverse code answers for easier interpretation (i.e. higher score = more interest) and removed -1 'No answers'\n",
    "\n",
    "for i in range(len(variable_list)):\n",
    "    for ii in range(len(party_df.loc[:, variable_list[i]])):\n",
    "        try:\n",
    "            if party_df.loc[ii, variable_list[i]] == -1:\n",
    "                party_df.loc[ii, variable_list[i]] = None\n",
    "            else:\n",
    "                party_df.loc[ii, variable_list[i]] = 5-party_df.loc[ii, variable_list[i]]\n",
    "        except:\n",
    "            print\n",
    "\n",
    "print(party_df.groupby(['TOPICINT_a']).size())\n",
    "\n",
    "news_means = party_df.groupby(['PARTY'])['TOPICINT_a', 'TOPICINT_b', 'TOPICINT_c', 'TOPICINT_d', 'TOPICINT_e', 'TOPICINT_f'].mean()\n",
    "news_means.columns = ['Government/Politics', 'Local News', 'Sports', 'Business and Finance', 'Science', 'Entertainment']\n",
    "news_means.index = parties\n",
    "news_means"
   ]
  },
  {
   "cell_type": "code",
   "execution_count": 74,
   "metadata": {},
   "outputs": [
    {
     "data": {
      "image/png": "[encoded data removed]",
      "text/plain": [
       "<Figure size 720x360 with 1 Axes>"
      ]
     },
     "metadata": {
      "needs_background": "light"
     },
     "output_type": "display_data"
    }
   ],
   "source": [
    "#Create box plot of news_means\n",
    "\n",
    "ind = np.arange(len(news_means.columns))\n",
    "width = 0.3\n",
    "fig, ax = plt.subplots(figsize=(10,5))\n",
    "\n",
    "rep_bars = ax.bar(ind-width, news_means.loc['Republican'], width, label='Republicans', color='r', alpha=0.5)\n",
    "dem_bars = ax.bar(ind, news_means.loc['Democrat'], width, label='Democrats', color='b', alpha=0.5)\n",
    "ind_bars = ax.bar(ind+width, news_means.loc['Independent'], width, label='Independents', color='y', alpha=0.5)\n",
    "\n",
    "ax.set_ylim(0,4)\n",
    "ax.set_title('News Topics of Interest by Party')\n",
    "ax.set_xticklabels(['','Government/Politics', 'Local News', 'Sports', 'Business and Finance', 'Science', 'Entertainment'], rotation=45)\n",
    "ax.set_yticklabels(['','', 'Not at all interested', '', 'Not too interested', '', 'Somewhat interested', '','Very Interested'])\n",
    "ax.legend()\n",
    "\n",
    "fig.tight_layout()\n",
    "plt.show()"
   ]
  }
 ],
 "metadata": {
  "kernelspec": {
   "display_name": "Python 3",
   "language": "python",
   "name": "python3"
  },
  "language_info": {
   "codemirror_mode": {
    "name": "ipython",
    "version": 3
   },
   "file_extension": ".py",
   "mimetype": "text/x-python",
   "name": "python",
   "nbconvert_exporter": "python",
   "pygments_lexer": "ipython3",
   "version": "3.7.3"
  }
 },
 "nbformat": 4,
 "nbformat_minor": 2
}
